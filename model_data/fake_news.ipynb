{
 "cells": [
  {
   "cell_type": "markdown",
   "metadata": {},
   "source": []
  },
  {
   "cell_type": "code",
   "execution_count": 2,
   "metadata": {},
   "outputs": [
    {
     "name": "stdout",
     "output_type": "stream",
     "text": [
      "Requirement already satisfied: matplotlib in /home/fabricio/.pyenv/versions/3.10.0/lib/python3.10/site-packages (3.5.2)\n",
      "Requirement already satisfied: python-dateutil>=2.7 in /home/fabricio/.pyenv/versions/3.10.0/lib/python3.10/site-packages (from matplotlib) (2.8.2)\n",
      "Requirement already satisfied: kiwisolver>=1.0.1 in /home/fabricio/.pyenv/versions/3.10.0/lib/python3.10/site-packages (from matplotlib) (1.4.2)\n",
      "Requirement already satisfied: pillow>=6.2.0 in /home/fabricio/.pyenv/versions/3.10.0/lib/python3.10/site-packages (from matplotlib) (9.1.0)\n",
      "Requirement already satisfied: cycler>=0.10 in /home/fabricio/.pyenv/versions/3.10.0/lib/python3.10/site-packages (from matplotlib) (0.11.0)\n",
      "Requirement already satisfied: fonttools>=4.22.0 in /home/fabricio/.pyenv/versions/3.10.0/lib/python3.10/site-packages (from matplotlib) (4.33.3)\n",
      "Requirement already satisfied: packaging>=20.0 in /home/fabricio/.pyenv/versions/3.10.0/lib/python3.10/site-packages (from matplotlib) (21.3)\n",
      "Requirement already satisfied: pyparsing>=2.2.1 in /home/fabricio/.pyenv/versions/3.10.0/lib/python3.10/site-packages (from matplotlib) (3.0.8)\n",
      "Requirement already satisfied: numpy>=1.17 in /home/fabricio/.pyenv/versions/3.10.0/lib/python3.10/site-packages (from matplotlib) (1.22.3)\n",
      "Requirement already satisfied: six>=1.5 in /home/fabricio/.pyenv/versions/3.10.0/lib/python3.10/site-packages (from python-dateutil>=2.7->matplotlib) (1.16.0)\n",
      "Requirement already satisfied: seaborn in /home/fabricio/.pyenv/versions/3.10.0/lib/python3.10/site-packages (0.11.2)\n",
      "Requirement already satisfied: numpy>=1.15 in /home/fabricio/.pyenv/versions/3.10.0/lib/python3.10/site-packages (from seaborn) (1.22.3)\n",
      "Requirement already satisfied: matplotlib>=2.2 in /home/fabricio/.pyenv/versions/3.10.0/lib/python3.10/site-packages (from seaborn) (3.5.2)\n",
      "Requirement already satisfied: scipy>=1.0 in /home/fabricio/.pyenv/versions/3.10.0/lib/python3.10/site-packages (from seaborn) (1.8.0)\n",
      "Requirement already satisfied: pandas>=0.23 in /home/fabricio/.pyenv/versions/3.10.0/lib/python3.10/site-packages (from seaborn) (1.4.2)\n",
      "Requirement already satisfied: pyparsing>=2.2.1 in /home/fabricio/.pyenv/versions/3.10.0/lib/python3.10/site-packages (from matplotlib>=2.2->seaborn) (3.0.8)\n",
      "Requirement already satisfied: packaging>=20.0 in /home/fabricio/.pyenv/versions/3.10.0/lib/python3.10/site-packages (from matplotlib>=2.2->seaborn) (21.3)\n",
      "Requirement already satisfied: python-dateutil>=2.7 in /home/fabricio/.pyenv/versions/3.10.0/lib/python3.10/site-packages (from matplotlib>=2.2->seaborn) (2.8.2)\n",
      "Requirement already satisfied: cycler>=0.10 in /home/fabricio/.pyenv/versions/3.10.0/lib/python3.10/site-packages (from matplotlib>=2.2->seaborn) (0.11.0)\n",
      "Requirement already satisfied: fonttools>=4.22.0 in /home/fabricio/.pyenv/versions/3.10.0/lib/python3.10/site-packages (from matplotlib>=2.2->seaborn) (4.33.3)\n",
      "Requirement already satisfied: kiwisolver>=1.0.1 in /home/fabricio/.pyenv/versions/3.10.0/lib/python3.10/site-packages (from matplotlib>=2.2->seaborn) (1.4.2)\n",
      "Requirement already satisfied: pillow>=6.2.0 in /home/fabricio/.pyenv/versions/3.10.0/lib/python3.10/site-packages (from matplotlib>=2.2->seaborn) (9.1.0)\n",
      "Requirement already satisfied: pytz>=2020.1 in /home/fabricio/.pyenv/versions/3.10.0/lib/python3.10/site-packages (from pandas>=0.23->seaborn) (2022.1)\n",
      "Requirement already satisfied: six>=1.5 in /home/fabricio/.pyenv/versions/3.10.0/lib/python3.10/site-packages (from python-dateutil>=2.7->matplotlib>=2.2->seaborn) (1.16.0)\n",
      "Collecting sklearn\n",
      "  Using cached sklearn-0.0.tar.gz (1.1 kB)\n",
      "  Preparing metadata (setup.py) ... \u001b[?25ldone\n",
      "\u001b[?25hCollecting scikit-learn\n",
      "  Using cached scikit_learn-1.0.2-cp310-cp310-manylinux_2_17_x86_64.manylinux2014_x86_64.whl (26.5 MB)\n",
      "Collecting joblib>=0.11\n",
      "  Using cached joblib-1.1.0-py2.py3-none-any.whl (306 kB)\n",
      "Collecting threadpoolctl>=2.0.0\n",
      "  Using cached threadpoolctl-3.1.0-py3-none-any.whl (14 kB)\n",
      "Requirement already satisfied: scipy>=1.1.0 in /home/fabricio/.pyenv/versions/3.10.0/lib/python3.10/site-packages (from scikit-learn->sklearn) (1.8.0)\n",
      "Requirement already satisfied: numpy>=1.14.6 in /home/fabricio/.pyenv/versions/3.10.0/lib/python3.10/site-packages (from scikit-learn->sklearn) (1.22.3)\n",
      "Using legacy 'setup.py install' for sklearn, since package 'wheel' is not installed.\n",
      "Installing collected packages: threadpoolctl, joblib, scikit-learn, sklearn\n",
      "  Running setup.py install for sklearn ... \u001b[?25ldone\n",
      "\u001b[?25hSuccessfully installed joblib-1.1.0 scikit-learn-1.0.2 sklearn-0.0 threadpoolctl-3.1.0\n"
     ]
    }
   ],
   "source": [
    "!pip3 install matplotlib\n",
    "!pip3 install seaborn\n",
    "!pip3 install sklearn"
   ]
  },
  {
   "cell_type": "code",
   "execution_count": 3,
   "metadata": {},
   "outputs": [],
   "source": [
    "import pandas as pd\n",
    "import numpy as np\n",
    "import matplotlib.pyplot as plt\n",
    "from sklearn.feature_extraction.text import CountVectorizer\n",
    "from sklearn.feature_extraction.text import TfidfTransformer\n",
    "from sklearn import feature_extraction, linear_model, model_selection, preprocessing\n",
    "from sklearn.metrics import accuracy_score\n",
    "from sklearn.model_selection import train_test_split\n",
    "from sklearn.pipeline import Pipeline"
   ]
  },
  {
   "cell_type": "code",
   "execution_count": null,
   "metadata": {},
   "outputs": [],
   "source": []
  },
  {
   "cell_type": "code",
   "execution_count": null,
   "metadata": {},
   "outputs": [],
   "source": []
  },
  {
   "cell_type": "code",
   "execution_count": null,
   "metadata": {},
   "outputs": [],
   "source": []
  }
 ],
 "metadata": {
  "kernelspec": {
   "display_name": "Python 3 (ipykernel)",
   "language": "python",
   "name": "python3"
  },
  "language_info": {
   "codemirror_mode": {
    "name": "ipython",
    "version": 3
   },
   "file_extension": ".py",
   "mimetype": "text/x-python",
   "name": "python",
   "nbconvert_exporter": "python",
   "pygments_lexer": "ipython3",
   "version": "3.10.0"
  }
 },
 "nbformat": 4,
 "nbformat_minor": 4
}
